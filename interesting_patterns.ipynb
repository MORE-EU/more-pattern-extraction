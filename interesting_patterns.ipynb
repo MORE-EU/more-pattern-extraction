{
 "cells": [
  {
   "cell_type": "markdown",
   "id": "da458947-8fab-4e75-9080-c54cbf63ef00",
   "metadata": {},
   "source": [
    "# Pattern Extraction Tool \n",
    "\n",
    "In this notebook we are going to showcase a tool we have developed that aims to extract interesting patterns from a labeled time series. Specifically, the goal is to detect patterns that are likely characteristic of the behaviour of the time series in labeled regions. \n",
    "\n",
    "For the scope of this demonstration notebook, we use time series data from wind turbines that are provided by [ENGIE](https://www.laborelec.com/). With the utilization of the data along with sparse labels that were available, we tried to detect patterns that could signify a specific behaviour, more specifically the yaw alignment or misalignment of a wind turbine. The notebook will focus on this specific dataset, however the methods are not restricted to wind turbines and can be easily used in other problems that can be formulated in a similar manner. "
   ]
  },
  {
   "cell_type": "markdown",
   "id": "aee9aa0f-d3e0-434e-899f-3c7fd31022b1",
   "metadata": {},
   "source": [
    "## Loading the modules that will be used throughout the notebook"
   ]
  },
  {
   "cell_type": "code",
   "execution_count": 1,
   "id": "8e5c98e0-5df3-4420-9016-ba7872b42c73",
   "metadata": {},
   "outputs": [],
   "source": [
    "import sys, os\n",
    "paths = ['', '..', '../..']\n",
    "for p in paths:\n",
    "    if p not in sys.path:\n",
    "        sys.path.insert(0, p)\n",
    "import h5py\n",
    "import matrixprofile as mpf\n",
    "import numpy as np\n",
    "import pandas as pd\n",
    "import matplotlib.pyplot as plt\n",
    "import pathlib\n",
    "from matrixprofile.visualize import visualize_md\n",
    "from matrixprofile import core\n",
    "from ast import literal_eval\n",
    "from sklearn.preprocessing import MinMaxScaler\n",
    "from my_functions import *\n",
    "from preprocessing.preprocessing import *\n",
    "%matplotlib inline"
   ]
  },
  {
   "cell_type": "markdown",
   "id": "fc4a9fe4-f8d3-44af-876d-bd6807dfa778",
   "metadata": {},
   "source": [
    "## Loading and preprocessing the dataset\n",
    "Initially, we are going to load the dataset and then perform some preprocessing steps. We are going to scale each column of the dataset to the \\[0, 1\\] interval, then we are going to change the granularity of the measurements from two seconds to thirty and add really small amount of noise in order to prevent constant regions in our time series, as that causes problems with the matrix profile algorithm which uses the z-normalized euclidean distance. Then we are going to filter out some dates and keep a small subset of the dataset for demonstration purposes.\n"
   ]
  },
  {
   "cell_type": "code",
   "execution_count": 2,
   "id": "936f50c6-9919-48d4-832a-963c9e787397",
   "metadata": {},
   "outputs": [
    {
     "data": {
      "text/html": [
       "<div>\n",
       "<style scoped>\n",
       "    .dataframe tbody tr th:only-of-type {\n",
       "        vertical-align: middle;\n",
       "    }\n",
       "\n",
       "    .dataframe tbody tr th {\n",
       "        vertical-align: top;\n",
       "    }\n",
       "\n",
       "    .dataframe thead th {\n",
       "        text-align: right;\n",
       "    }\n",
       "</style>\n",
       "<table border=\"1\" class=\"dataframe\">\n",
       "  <thead>\n",
       "    <tr style=\"text-align: right;\">\n",
       "      <th></th>\n",
       "      <th>wind speed</th>\n",
       "      <th>pitch angle</th>\n",
       "      <th>rotor speed</th>\n",
       "      <th>active power</th>\n",
       "      <th>cos_nacelle_dir</th>\n",
       "      <th>sin_nacelle_dir</th>\n",
       "      <th>cos_wind_dir</th>\n",
       "      <th>sin_wind_dir</th>\n",
       "      <th>nacelle direction</th>\n",
       "      <th>wind direction</th>\n",
       "    </tr>\n",
       "    <tr>\n",
       "      <th>datetime</th>\n",
       "      <th></th>\n",
       "      <th></th>\n",
       "      <th></th>\n",
       "      <th></th>\n",
       "      <th></th>\n",
       "      <th></th>\n",
       "      <th></th>\n",
       "      <th></th>\n",
       "      <th></th>\n",
       "      <th></th>\n",
       "    </tr>\n",
       "  </thead>\n",
       "  <tbody>\n",
       "    <tr>\n",
       "      <th>2018-01-03 00:00:00</th>\n",
       "      <td>11.272275</td>\n",
       "      <td>3.650000</td>\n",
       "      <td>15.220119</td>\n",
       "      <td>1936.342041</td>\n",
       "      <td>-0.999998</td>\n",
       "      <td>-0.002026</td>\n",
       "      <td>-0.996706</td>\n",
       "      <td>0.081106</td>\n",
       "      <td>180.116089</td>\n",
       "      <td>175.347885</td>\n",
       "    </tr>\n",
       "    <tr>\n",
       "      <th>2018-01-03 00:00:02</th>\n",
       "      <td>10.005727</td>\n",
       "      <td>3.886307</td>\n",
       "      <td>15.229703</td>\n",
       "      <td>1992.992554</td>\n",
       "      <td>-0.999998</td>\n",
       "      <td>-0.002026</td>\n",
       "      <td>-0.993781</td>\n",
       "      <td>-0.004818</td>\n",
       "      <td>180.116089</td>\n",
       "      <td>186.393020</td>\n",
       "    </tr>\n",
       "    <tr>\n",
       "      <th>2018-01-03 00:00:04</th>\n",
       "      <td>10.507183</td>\n",
       "      <td>4.122613</td>\n",
       "      <td>15.239287</td>\n",
       "      <td>2022.112915</td>\n",
       "      <td>-0.999998</td>\n",
       "      <td>-0.002026</td>\n",
       "      <td>-0.991553</td>\n",
       "      <td>-0.129418</td>\n",
       "      <td>180.116089</td>\n",
       "      <td>187.452170</td>\n",
       "    </tr>\n",
       "    <tr>\n",
       "      <th>2018-01-03 00:00:06</th>\n",
       "      <td>10.704224</td>\n",
       "      <td>4.358920</td>\n",
       "      <td>15.248871</td>\n",
       "      <td>2027.170776</td>\n",
       "      <td>-0.999998</td>\n",
       "      <td>-0.002026</td>\n",
       "      <td>-0.988565</td>\n",
       "      <td>-0.150475</td>\n",
       "      <td>180.116089</td>\n",
       "      <td>188.673038</td>\n",
       "    </tr>\n",
       "    <tr>\n",
       "      <th>2018-01-03 00:00:08</th>\n",
       "      <td>10.312802</td>\n",
       "      <td>4.595226</td>\n",
       "      <td>15.258455</td>\n",
       "      <td>2015.790172</td>\n",
       "      <td>-0.999998</td>\n",
       "      <td>-0.002026</td>\n",
       "      <td>-0.985330</td>\n",
       "      <td>-0.170225</td>\n",
       "      <td>180.116089</td>\n",
       "      <td>189.826151</td>\n",
       "    </tr>\n",
       "  </tbody>\n",
       "</table>\n",
       "</div>"
      ],
      "text/plain": [
       "                     wind speed  pitch angle  rotor speed  active power  \\\n",
       "datetime                                                                  \n",
       "2018-01-03 00:00:00   11.272275     3.650000    15.220119   1936.342041   \n",
       "2018-01-03 00:00:02   10.005727     3.886307    15.229703   1992.992554   \n",
       "2018-01-03 00:00:04   10.507183     4.122613    15.239287   2022.112915   \n",
       "2018-01-03 00:00:06   10.704224     4.358920    15.248871   2027.170776   \n",
       "2018-01-03 00:00:08   10.312802     4.595226    15.258455   2015.790172   \n",
       "\n",
       "                     cos_nacelle_dir  sin_nacelle_dir  cos_wind_dir  \\\n",
       "datetime                                                              \n",
       "2018-01-03 00:00:00        -0.999998        -0.002026     -0.996706   \n",
       "2018-01-03 00:00:02        -0.999998        -0.002026     -0.993781   \n",
       "2018-01-03 00:00:04        -0.999998        -0.002026     -0.991553   \n",
       "2018-01-03 00:00:06        -0.999998        -0.002026     -0.988565   \n",
       "2018-01-03 00:00:08        -0.999998        -0.002026     -0.985330   \n",
       "\n",
       "                     sin_wind_dir  nacelle direction  wind direction  \n",
       "datetime                                                              \n",
       "2018-01-03 00:00:00      0.081106         180.116089      175.347885  \n",
       "2018-01-03 00:00:02     -0.004818         180.116089      186.393020  \n",
       "2018-01-03 00:00:04     -0.129418         180.116089      187.452170  \n",
       "2018-01-03 00:00:06     -0.150475         180.116089      188.673038  \n",
       "2018-01-03 00:00:08     -0.170225         180.116089      189.826151  "
      ]
     },
     "execution_count": 2,
     "metadata": {},
     "output_type": "execute_result"
    }
   ],
   "source": [
    "dataset_file = '../more/data/BEBEZE01_scada_high_frequency.parquet'\n",
    "df = load_df(dataset_file)\n",
    "df.head()"
   ]
  },
  {
   "cell_type": "code",
   "execution_count": 3,
   "id": "b4a35345-4569-4598-908a-7e34262fd682",
   "metadata": {},
   "outputs": [
    {
     "name": "stdout",
     "output_type": "stream",
     "text": [
      "(8641, 8)\n"
     ]
    }
   ],
   "source": [
    "# pick some specific columns\n",
    "cols = ['wind speed', 'active power', 'rotor speed', 'pitch angle', 'sin_wind_dir', 'sin_nacelle_dir', 'cos_wind_dir', 'cos_nacelle_dir']\n",
    "df = df[cols]\n",
    "\n",
    "# Scale each column to 0-1\n",
    "df = scale_df(df)\n",
    "\n",
    "# Resample with a 30sec granularity\n",
    "granularity = '60s'\n",
    "df = change_granularity(df, granularity)\n",
    "\n",
    "# add small noise to series\n",
    "df = add_noise_to_series_md(df, noise_max = 0.00009)\n",
    "\n",
    "# Keep a small subset of the dataset for demonstration purposes\n",
    "start = '2018-12-08'\n",
    "end = '2018-12-14'\n",
    "df = filter_dates(df, start, end)\n",
    "print(df.shape)"
   ]
  },
  {
   "cell_type": "markdown",
   "id": "0de87237-9bca-4538-a354-de93002832df",
   "metadata": {},
   "source": [
    "## Computing the multi-dimensional matrix profile\n",
    "With the assistance of the [STUMPY](https://github.com/TDAmeritrade/stumpy) Python library, we are going to compute the multi dimensional matrix profile (will be also denoted as MP) on our dataset. The MP algorithm allows for constrained multi-dimensional motif search, so we pick dimensions that must be included, i.e 'active power', in this demonstration. After computing the MP we save it along with the index that accompanies it as an hdf5 file."
   ]
  },
  {
   "cell_type": "code",
   "execution_count": 4,
   "id": "262368ad-bf9e-40ef-b928-673bfc6c4420",
   "metadata": {},
   "outputs": [
    {
     "name": "stdout",
     "output_type": "stream",
     "text": [
      "Finished\n"
     ]
    }
   ],
   "source": [
    "m = 60 # window size or length of the patterns we are looking for\n",
    "\n",
    "# pick the dimensions that must be included in the multi-dimensional mp \n",
    "include = ['active power']\n",
    "col_indexes = []\n",
    "for n in include:\n",
    "    col_indexes.append(df.columns.get_loc(n))\n",
    "\n",
    "# calculate the multi-dimensional MP here\n",
    "mps, indices = mstump(df, m, include = col_indexes)\n",
    "mp_len = mps.shape[0]\n",
    "\n",
    "# save the MP and index\n",
    "output_dir = './test_mp/'\n",
    "pathlib.Path(output_dir).mkdir(parents=True, exist_ok=True) \n",
    "output_name = 'test'\n",
    "save_mdmp_as_h5(output_dir, output_name, mps, indices)\n",
    "\n",
    "print(\"Finished\")"
   ]
  },
  {
   "cell_type": "markdown",
   "id": "13675ee7-8afc-409e-9d86-1efd53d583f8",
   "metadata": {},
   "source": [
    "When dealing with a multi-dimensional MP one must pick the k most relevant dimensions, as the addition of extra irrelevant dimensions can degrade the perfonrmance of the algorithm significantly. That problem as well as a way to combat it, is described in the paper [Matrix Profile VI: Meaningful Multidimensional Motif Discovery](https://www.cs.ucr.edu/~eamonn/Motif_Discovery_ICDM.pdf), that way is the usage of the \"knee\" or \"elbow\" method. According to this method, we plot the minimum value of the MP for each value k of dimensions and find the \"turning point\". By doing this in our data (as seen in the cell below), we observe that after the value k=2 the values start to dramatically increase suggesting that the \"natural\" dimensionality of patterns in our data is for k = 2 number of dimensions. (Since k is 0-idnexed this means 3 dimensions)    "
   ]
  },
  {
   "cell_type": "code",
   "execution_count": 5,
   "id": "3b38ba32-dd35-44f2-8011-bd6ae3d6205f",
   "metadata": {},
   "outputs": [
    {
     "data": {
      "image/png": "[encoded data removed]",
      "text/plain": [
       "<Figure size 1200x400 with 1 Axes>"
      ]
     },
     "metadata": {
      "needs_background": "light"
     },
     "output_type": "display_data"
    }
   ],
   "source": [
    "plot_knee(mps)"
   ]
  },
  {
   "cell_type": "markdown",
   "id": "07c86c37-e26e-4055-aab4-e550b24fd95a",
   "metadata": {},
   "source": [
    "Afterwards, by specifying the number of the dimensions and any dimension we explicitly want to include (\"active power\" in this specific case) we get the subspace of dimensions in which the k-dimensional matrix profile was computed. "
   ]
  },
  {
   "cell_type": "code",
   "execution_count": 6,
   "id": "c1762165-1a7a-4b49-9eb1-993504d87f16",
   "metadata": {},
   "outputs": [
    {
     "name": "stdout",
     "output_type": "stream",
     "text": [
      "Include dimensions: ['active power'], indexes in df = [1]\n",
      "For k = 2, the 3-dimensional subspace includes subsequences from ['active power' 'pitch angle' 'rotor speed']\n"
     ]
    },
    {
     "data": {
      "text/html": [
       "<div>\n",
       "<style scoped>\n",
       "    .dataframe tbody tr th:only-of-type {\n",
       "        vertical-align: middle;\n",
       "    }\n",
       "\n",
       "    .dataframe tbody tr th {\n",
       "        vertical-align: top;\n",
       "    }\n",
       "\n",
       "    .dataframe thead th {\n",
       "        text-align: right;\n",
       "    }\n",
       "</style>\n",
       "<table border=\"1\" class=\"dataframe\">\n",
       "  <thead>\n",
       "    <tr style=\"text-align: right;\">\n",
       "      <th></th>\n",
       "      <th>active power</th>\n",
       "      <th>pitch angle</th>\n",
       "      <th>rotor speed</th>\n",
       "    </tr>\n",
       "    <tr>\n",
       "      <th>datetime</th>\n",
       "      <th></th>\n",
       "      <th></th>\n",
       "      <th></th>\n",
       "    </tr>\n",
       "  </thead>\n",
       "  <tbody>\n",
       "    <tr>\n",
       "      <th>2018-12-08 00:00:00</th>\n",
       "      <td>0.811161</td>\n",
       "      <td>0.539825</td>\n",
       "      <td>0.853454</td>\n",
       "    </tr>\n",
       "    <tr>\n",
       "      <th>2018-12-08 00:01:00</th>\n",
       "      <td>0.837294</td>\n",
       "      <td>0.539784</td>\n",
       "      <td>0.877221</td>\n",
       "    </tr>\n",
       "    <tr>\n",
       "      <th>2018-12-08 00:02:00</th>\n",
       "      <td>0.755386</td>\n",
       "      <td>0.538836</td>\n",
       "      <td>0.827371</td>\n",
       "    </tr>\n",
       "    <tr>\n",
       "      <th>2018-12-08 00:03:00</th>\n",
       "      <td>0.670801</td>\n",
       "      <td>0.537674</td>\n",
       "      <td>0.784765</td>\n",
       "    </tr>\n",
       "    <tr>\n",
       "      <th>2018-12-08 00:04:00</th>\n",
       "      <td>0.862832</td>\n",
       "      <td>0.543578</td>\n",
       "      <td>0.893585</td>\n",
       "    </tr>\n",
       "  </tbody>\n",
       "</table>\n",
       "</div>"
      ],
      "text/plain": [
       "                     active power  pitch angle  rotor speed\n",
       "datetime                                                   \n",
       "2018-12-08 00:00:00      0.811161     0.539825     0.853454\n",
       "2018-12-08 00:01:00      0.837294     0.539784     0.877221\n",
       "2018-12-08 00:02:00      0.755386     0.538836     0.827371\n",
       "2018-12-08 00:03:00      0.670801     0.537674     0.784765\n",
       "2018-12-08 00:04:00      0.862832     0.543578     0.893585"
      ]
     },
     "execution_count": 6,
     "metadata": {},
     "output_type": "execute_result"
    }
   ],
   "source": [
    "k = 2\n",
    "include = ['active power']\n",
    "picked_cols =  pick_subspace_columns(df, mps, indices, k, m, include)\n",
    "df = df[picked_cols]\n",
    "df.head()"
   ]
  },
  {
   "cell_type": "markdown",
   "id": "b519c8a3-f404-4154-b2d7-a02e536486ff",
   "metadata": {},
   "source": [
    "## Using the annotation vector functionality\n",
    "At this place, we load the k-dimensional MP that we have saved earlier and we apply our multi-dimensional extension of the [\"complexity\" annotation vector](https://matrixprofile.docs.matrixprofile.org/_modules/matrixprofile/transform.html#make_complexity_av) by the Matrix Profile Foundation library. We do this in order to penalize constant or almost constant regions of the time-series that have too low complexity to contain any \"meaningful\" pattern."
   ]
  },
  {
   "cell_type": "code",
   "execution_count": 7,
   "id": "98c6edc5-11b4-448e-a286-4bb16f58dff9",
   "metadata": {},
   "outputs": [
    {
     "name": "stdout",
     "output_type": "stream",
     "text": [
      "Making multi-dim av...\n"
     ]
    }
   ],
   "source": [
    "mp, index = load_mdmp_from_h5(output_dir, output_name, k)\n",
    "profile = compute_mp_av(mp, index, m, df, k)\n",
    "output_name = output_name + '_av'\n",
    "save_mdmp_as_h5(output_dir, output_name, profile['cmp'], profile['pi'], k)"
   ]
  },
  {
   "cell_type": "markdown",
   "id": "e5a7cbce-6009-43db-acb4-52f9901ee851",
   "metadata": {},
   "source": [
    "## Interesting Pattern Extraction (Top-k motifs)\n",
    "Using the corrected matrix profile (a matrix profile after we apply the annotation vector, CMP) that we saved in the previous cell, we are now going to try to find some \"meaningful\" patterns. Utilizing our multi-dimensional extension of the [top k motifs](https://github.com/matrix-profile-foundation/matrixprofile/blob/master/matrixprofile/algorithms/top_k_motifs.py) algorithm from Matrix Profile Foundation, we are searching for the top-k motifs and their neighbors in our dataset. For each one of the top-k motif pair we calculate a cost based on the distribution of the pair along with its neighbors on labeled regions of the time series. For example, in this specific case we look for patterns that along with the majority of their neighbors will fall into an \"aligned\" or \"misaligned\" region that we have defined, that signifies the yaw alignment or misalignment of a wind turbine. The intuition behind this, is that if a pattern as well as the majority of its neighbors, lie in a region of a specific label then that pattern is likely to be a \"meaningful\" characteristic of the region.\n",
    "\n",
    "We perform the aforementioned serach for top-k motifs with multiple settings (different exclusion zones and search radii). We can save visual as well as statistial results for each setting as well as a summary that contains statistical results for all the experimental settings.\n",
    "\n",
    "Note: The majority and the cost are calculated on normalized values of the occurances (\"aligned\"/\"misaligned\" in this case) based on the lengths of the segments."
   ]
  },
  {
   "cell_type": "code",
   "execution_count": null,
   "id": "1c390935-9b89-45aa-9831-ef324ce3bb6d",
   "metadata": {},
   "outputs": [
    {
     "name": "stdout",
     "output_type": "stream",
     "text": [
      "results_test/results60_0.5_3\n",
      "results_test/results60_1_3\n"
     ]
    }
   ],
   "source": [
    "mp, index = load_mdmp_from_h5(output_dir, output_name, k)\n",
    "ezones = [0.5, 1]\n",
    "radii = [3, 4]\n",
    "segment_labels = ['aligned', 'misaligned']\n",
    "output_list_full = []\n",
    "m1 = (df.index >= '2018-12-11')\n",
    "mask = np.logical_or.reduce([m1])\n",
    "results_dir = 'results_test'\n",
    "pathlib.Path(results_dir).mkdir(parents=True, exist_ok=True) \n",
    "for radius in radii:\n",
    "    for ez in ezones:\n",
    "        topk = 5\n",
    "        max_neighbors = 50\n",
    "        profile = get_top_k_motifs(df, mp, index, m, ez, radius, k=topk, max_neighbors=max_neighbors)\n",
    "        output_list = calculate_motif_stats(profile, mask, topk, m, ez, radius, segment_labels)\n",
    "        sub_dir_name = 'results' + str(m) + '_' + str(ez) + '_' + str(radius)\n",
    "        df_output = pd.DataFrame(output_list, columns=['k', 'motif', 'nearest neighbor',\n",
    "                                                       'aligned', 'misaligned', 'cost', \n",
    "                                                       'window_size', 'exclusion_zone', 'radius',\n",
    "                                                       'motif indices', 'majority'])\n",
    "        # the following line can be uncommented to save results for each setting separately\n",
    "        save_results(results_dir, sub_dir_name, profile, df_output, m, radius, ez, topk, max_neighbors)\n",
    "summary_name = './summarized_results_test.csv'\n",
    "df_output = pd.DataFrame(output_list, columns=['k', 'motif', 'nearest neighbor', 'aligned',\n",
    "                                               'misaligned', 'cost', 'window_size', 'exclusion_zone',\n",
    "                                               'radius', 'motif indices', 'majority'])\n",
    "df_output.to_csv(summary_name, index=False)"
   ]
  },
  {
   "cell_type": "markdown",
   "id": "84e92996-46e5-475b-a151-21a9bdb0c1f6",
   "metadata": {},
   "source": [
    "## Visualization example\n",
    "\n",
    "Here we are going to shocase an example visual demonstration of the patterns found as well as their neighbors for one specific setting. This visualization is based on the [visualize](https://github.com/matrix-profile-foundation/matrixprofile/blob/master/matrixprofile/visualize.py) function from Matrix Profile Library, modified for multi-dimensional time series."
   ]
  },
  {
   "cell_type": "code",
   "execution_count": null,
   "id": "c929c9fc-e0a8-48ad-a377-d778b1cf3ebb",
   "metadata": {},
   "outputs": [],
   "source": [
    "with warnings.catch_warnings():\n",
    "    warnings.simplefilter('ignore')\n",
    "    visualize_md(profile)"
   ]
  },
  {
   "cell_type": "markdown",
   "id": "fdd11ee4-6807-452b-973f-2836f4bbb5bb",
   "metadata": {},
   "source": [
    "## Testing the generalization ability of the patterns\n",
    "At this point, we are going to illustrate a method for testing if the found patterns can generalize well and if they can be useful in other similar timeseries.\n",
    "\n",
    "In this specific example, we are going to load a dataset from another wind turbine and apply the same preprocessing steps as the ones we discussed in the beginning of this notebook before we continue."
   ]
  },
  {
   "cell_type": "code",
   "execution_count": null,
   "id": "8963fedb-936d-45df-9557-c2b4dbf6871b",
   "metadata": {},
   "outputs": [],
   "source": [
    "dataset_file = '../more/data/BEBEZE02_scada_high_frequency.parquet'\n",
    "df2 = load_df(dataset_file)\n",
    "\n",
    "# pick the most important columns\n",
    "cols = ['wind speed', 'active power', 'rotor speed', 'pitch angle', 'sin_wind_dir', 'sin_nacelle_dir', 'cos_wind_dir', 'cos_nacelle_dir']\n",
    "df2 = df2[cols]\n",
    "\n",
    "\n",
    "# Scale each colimn of the dataframe to 0-1\n",
    "df2 = scale_df(df2)\n",
    "\n",
    "# Resample with a 60sec granularity\n",
    "df2 = change_granularity(df2, granularity)\n",
    "\n",
    "# Add a small amount of noise to the time series\n",
    "df2 = add_noise_to_series_md(df2, noise_max = 0.00009)\n",
    "\n",
    "# Keep a small subset of the dataset for demonstration purposes\n",
    "start = '2018-12-08'\n",
    "end = '2018-12-14'\n",
    "df2 = filter_dates(df2, start, end)\n",
    "\n",
    "df2 = df[picked_cols] "
   ]
  },
  {
   "cell_type": "markdown",
   "id": "59ee378f-306f-458c-8296-b4664a489336",
   "metadata": {},
   "source": [
    "We are going to load the summary we have saved previously and sort the patterns we found based on their cost. Intuitively, low cost means that the majority of the occurances of the patterns is heavily observed in the one labeled region compared to the other. For example, consider the case of a pattern p that has 10 occurances, if the 10 occurances are in regions labeled x and 0 in regions labeled y then the cost will be 0 (the minimum), now if the occurances were 5 in regions labeled x and 5 in regions labeled y then its cost would be 1 (the maximum)."
   ]
  },
  {
   "cell_type": "code",
   "execution_count": null,
   "id": "5b9ad522-cdb8-46ce-be69-59994fb5c9af",
   "metadata": {},
   "outputs": [],
   "source": [
    "df_summary = pd.read_csv(summary_name)\n",
    "df_summary = df_summary.drop(df_summary[df_summary['majority'] == 'None'].index)\n",
    "df_summary.sort_values(by='cost', inplace=True)\n",
    "df_summary.reset_index(drop=True, inplace=True)\n",
    "df_summary.head()"
   ]
  },
  {
   "cell_type": "markdown",
   "id": "ce3ddb53-f3e5-4126-bfcf-ba1042ef1898",
   "metadata": {},
   "source": [
    "For the sake of this demonstration, we will pick at most five motif pairs we have previously extracted, on the other time sereis, with the lowest cost. Then, for each one of those patterns we are going to find its closest neighbors in the new time series and score them in the same manner as before. Also, we will check if the majority of the neighbors in the new time series lies in regions with the same label as in the time series it was originally extracted from. If the pattern in the new time series is assigned a low cost and the majority of its occurances are observed in regions of the same labels as before, then it is very likely that it generalizes in the new time series as well."
   ]
  },
  {
   "cell_type": "code",
   "execution_count": null,
   "id": "4d66241e-b049-4833-98fe-0fd38833ed24",
   "metadata": {},
   "outputs": [],
   "source": [
    "pairs = []\n",
    "exclusion_zones = []\n",
    "majorities = []\n",
    "print(df_summary.shape)\n",
    "\n",
    "# at most 5 of the lowest cost pairs\n",
    "for i in range(0, min(5, df_summary.shape[0])):\n",
    "    pairs.append(literal_eval(df_summary.loc[i, 'motif indices']))\n",
    "    exclusion_zones.append(df_summary.loc[i, 'exclusion_zone'])\n",
    "    majorities.append(df_summary.loc[i, 'majority'])"
   ]
  },
  {
   "cell_type": "code",
   "execution_count": null,
   "id": "4a88fa1c-da40-408c-a386-751d8157674c",
   "metadata": {},
   "outputs": [],
   "source": [
    "# calculate the distances between the two segments of each motif pair\n",
    "ts1 = df.values\n",
    "ts2 = df2.values\n",
    "pair_dists = []\n",
    "for pair in pairs:\n",
    "    indx1, indx2 = pair\n",
    "    q = ts1[indx1:indx1+m] \n",
    "    t = ts1[indx2:indx2+m] \n",
    "    pdist = pairwise_dist(q, t)\n",
    "    pair_dists.append(pdist)\n",
    "    \n",
    "# for each part of each motif pair find the closest neighbors and their distances\n",
    "nn_list = []\n",
    "nn_dists_list = []\n",
    "for pair, dist, ez in zip(pairs, pair_dists, exclusion_zones):\n",
    "    exclusion_zone = int(np.floor(m * ez))\n",
    "    idx1, idx2 = pair\n",
    "    q1 = ts1[idx1:idx1+m] \n",
    "    q2 = ts1[idx2:idx2+m] \n",
    "    \n",
    "    nn, nn_dists = find_neighbors(q1, ts2, m, exclusion_zone=exclusion_zone, min_dist=dist, max_neighbors=50)\n",
    "    nn_list.append(nn)\n",
    "    nn_dists_list.append(nn_dists)\n",
    "    \n",
    "    nn, nn_dists = find_neighbors(q2, ts2, m, exclusion_zone=exclusion_zone, min_dist=dist, max_neighbors=50)\n",
    "    nn_list.append(nn)\n",
    "    nn_dists_list.append(nn_dists)\n"
   ]
  },
  {
   "cell_type": "code",
   "execution_count": null,
   "id": "6be2ac5a-b9a7-4c9c-9dfa-e14b0b2ec9a0",
   "metadata": {},
   "outputs": [],
   "source": [
    "def generate_output_row(q, nn_list, nn_dists_list, pair_dist, segment_labels, maj_other):\n",
    "    if not nn_list == [] and not nn_dists_list ==[]:\n",
    "        min_neighbor_dist = nn_i_dists[0]\n",
    "        avg_neighbor_dist = np.mean(nn_i_dists)\n",
    "        res_row = [q_idx1, pair_dist, min_neighbor_dist, avg_neighbor_dist]\n",
    "        res = calculate_nn_stats(nn_i, mask, m, ez, segment_labels, maj_other)\n",
    "        res_row.extend(res)\n",
    "        return res_row\n",
    "    return None"
   ]
  },
  {
   "cell_type": "markdown",
   "id": "b3433e92-88f7-41bb-bada-2f75fdb0985f",
   "metadata": {},
   "source": [
    "## Outputting the final results\n",
    "Finally we create a csv file that contains the statistical results for the test we performed in the new time sereis for each pattern.\n",
    "\n",
    "Note: The majority and the cost are calculated on normalized values of the occurances (\"aligned\"/\"misaligned\" in this case) based on the lengths of the segments."
   ]
  },
  {
   "cell_type": "code",
   "execution_count": null,
   "id": "ae58c36f-309e-4c6a-a2e6-40bc904f7706",
   "metadata": {},
   "outputs": [],
   "source": [
    "result_rows = []\n",
    "i = 0\n",
    "# for each part of each motif pair calculate statistics and save\n",
    "for q_idx_pair, maj, pair_dist, ez in zip(pairs, majorities, pair_dists, exclusion_zones):\n",
    "    q_idx1, q_idx2 = q_idx_pair\n",
    "    \n",
    "    nn_i = nn_list[i]\n",
    "    nn_i_dists = nn_dists_list[i]\n",
    "    res_row = generate_output_row(q_idx1, nn_i, nn_i_dists, pair_dist, segment_labels, maj)\n",
    "    if res_row is not None:\n",
    "        result_rows.append(res_row)\n",
    "    i+=1\n",
    "    \n",
    "    nn_i = nn_list[i]\n",
    "    nn_i_dists = nn_dists_list[i]\n",
    "    res_row = generate_output_row(q_idx2, nn_i, nn_i_dists, pair_dist, segment_labels, maj)\n",
    "    if res_row is not None:\n",
    "        result_rows.append(res_row)\n",
    "    i+=1\n",
    "    \n",
    "output_name = 'test'\n",
    "df_output = pd.DataFrame(result_rows, columns=['pattern_idx_in_ts1', 'motif_pair_dist', \n",
    "                                               f'Closest neighbor dist in ts2', \n",
    "                                               f'Average neighbor dist in ts2',\n",
    "                                               f'NNs in ts2 indices', \n",
    "                                               'aligned', 'misaligned', 'exclusion_zone', 'cost',\n",
    "                                               'matching_majority'])\n",
    "df_output.head(10)"
   ]
  }
 ],
 "metadata": {
  "kernelspec": {
   "display_name": "Python 3",
   "language": "python",
   "name": "python3"
  },
  "language_info": {
   "codemirror_mode": {
    "name": "ipython",
    "version": 3
   },
   "file_extension": ".py",
   "mimetype": "text/x-python",
   "name": "python",
   "nbconvert_exporter": "python",
   "pygments_lexer": "ipython3",
   "version": "3.8.10"
  }
 },
 "nbformat": 4,
 "nbformat_minor": 5
}
